{
 "cells": [
  {
   "cell_type": "code",
   "execution_count": 1,
   "metadata": {},
   "outputs": [],
   "source": [
    "data={\n",
    "    \"pets\": [\n",
    "        {\n",
    "            \"tipo\":\"Gato\",\n",
    "            \"raza\": \"Persa\",\n",
    "            \"talla\": \"mediano\",\n",
    "            \"precio\": 100000,\n",
    "            \"servicios\": [\n",
    "                \"vacunas\",\n",
    "                \"baño\",\n",
    "                \"alimento\",\n",
    "                \"juguetes\"\n",
    "            ]\n",
    "        },\n",
    "        {\n",
    "            \"tipo\":\"Perro\",\n",
    "            \"raza\": \"Pastor Alemán\",\n",
    "            \"talla\": \"Grande\",\n",
    "            \"precio\": 20000,\n",
    "            \"servicios\": [\"hotel\"]\n",
    "        },\n",
    "        {\n",
    "            \"tipo\":\"Perro\",\n",
    "            \"raza\": \"Pastor Collins\",\n",
    "            \"talla\": \"Grande\",\n",
    "            \"precio\": 15000,\n",
    "            \"servicios\": [\"baño\"]\n",
    "        },\n",
    "        {\n",
    "            \"tipo\":\"Chanchito\",\n",
    "            \"raza\": \"Tiny Rose\",\n",
    "            \"talla\": \"pequeño\",\n",
    "            \"precio\": 40000,\n",
    "            \"servicios\": [\n",
    "                \"vacunas\",\n",
    "                \"alimento\"\n",
    "            ]\n",
    "        }\n",
    "    ]\n",
    "}"
   ]
  },
  {
   "cell_type": "code",
   "execution_count": 3,
   "metadata": {},
   "outputs": [
    {
     "name": "stdout",
     "output_type": "stream",
     "text": [
      "{'tipo': 'Gato', 'raza': 'Persa', 'talla': 'mediano', 'precio': 100000, 'servicios': ['vacunas', 'baño', 'alimento', 'juguetes']}\n",
      "{'tipo': 'Perro', 'raza': 'Pastor Alemán', 'talla': 'Grande', 'precio': 20000, 'servicios': ['hotel']}\n",
      "{'tipo': 'Perro', 'raza': 'Pastor Collins', 'talla': 'Grande', 'precio': 15000, 'servicios': ['baño']}\n",
      "{'tipo': 'Chanchito', 'raza': 'Tiny Rose', 'talla': 'pequeño', 'precio': 40000, 'servicios': ['vacunas', 'alimento']}\n",
      "0\n",
      "1\n",
      "2\n",
      "3\n"
     ]
    }
   ],
   "source": [
    "for i in data[\"pets\"]:\n",
    "    print(i)\n",
    "\n",
    "for i in range(len(data[\"pets\"])):\n",
    "    print(i)"
   ]
  },
  {
   "cell_type": "code",
   "execution_count": 4,
   "metadata": {},
   "outputs": [
    {
     "name": "stdout",
     "output_type": "stream",
     "text": [
      "0   Uno\n",
      "1   dos\n",
      "2   3\n",
      "3   4\n",
      "4   0\n"
     ]
    }
   ],
   "source": [
    "lista_a=[\"Uno\",\"dos\",\"3\",\"4\",0]\n",
    "for i,elemento in enumerate(lista_a):\n",
    "    print(i,\" \",elemento)\n",
    "\n"
   ]
  },
  {
   "cell_type": "code",
   "execution_count": 5,
   "metadata": {},
   "outputs": [
    {
     "data": {
      "text/plain": [
       "['pets']"
      ]
     },
     "execution_count": 5,
     "metadata": {},
     "output_type": "execute_result"
    }
   ],
   "source": [
    "[\"pets\"]"
   ]
  },
  {
   "cell_type": "code",
   "execution_count": 6,
   "metadata": {},
   "outputs": [
    {
     "data": {
      "text/plain": [
       "{'pets': [{'tipo': 'Gato',\n",
       "   'raza': 'Persa',\n",
       "   'talla': 'mediano',\n",
       "   'precio': 100000,\n",
       "   'servicios': ['vacunas', 'baño', 'alimento', 'juguetes']},\n",
       "  {'tipo': 'Perro',\n",
       "   'raza': 'Pastor Alemán',\n",
       "   'talla': 'Grande',\n",
       "   'precio': 20000,\n",
       "   'servicios': ['hotel']},\n",
       "  {'tipo': 'Perro',\n",
       "   'raza': 'Pastor Collins',\n",
       "   'talla': 'Grande',\n",
       "   'precio': 15000,\n",
       "   'servicios': ['baño']},\n",
       "  {'tipo': 'Chanchito',\n",
       "   'raza': 'Tiny Rose',\n",
       "   'talla': 'pequeño',\n",
       "   'precio': 40000,\n",
       "   'servicios': ['vacunas', 'alimento']}]}"
      ]
     },
     "execution_count": 6,
     "metadata": {},
     "output_type": "execute_result"
    }
   ],
   "source": [
    "data"
   ]
  },
  {
   "cell_type": "code",
   "execution_count": 8,
   "metadata": {},
   "outputs": [
    {
     "data": {
      "text/plain": [
       "[{'tipo': 'Gato',\n",
       "  'raza': 'Persa',\n",
       "  'talla': 'mediano',\n",
       "  'precio': 100000,\n",
       "  'servicios': ['vacunas', 'baño', 'alimento', 'juguetes']},\n",
       " {'tipo': 'Perro',\n",
       "  'raza': 'Pastor Alemán',\n",
       "  'talla': 'Grande',\n",
       "  'precio': 20000,\n",
       "  'servicios': ['hotel']},\n",
       " {'tipo': 'Perro',\n",
       "  'raza': 'Pastor Collins',\n",
       "  'talla': 'Grande',\n",
       "  'precio': 15000,\n",
       "  'servicios': ['baño']},\n",
       " {'tipo': 'Chanchito',\n",
       "  'raza': 'Tiny Rose',\n",
       "  'talla': 'pequeño',\n",
       "  'precio': 40000,\n",
       "  'servicios': ['vacunas', 'alimento']}]"
      ]
     },
     "execution_count": 8,
     "metadata": {},
     "output_type": "execute_result"
    }
   ],
   "source": [
    "data[\"pets\"]"
   ]
  },
  {
   "cell_type": "code",
   "execution_count": 10,
   "metadata": {},
   "outputs": [
    {
     "data": {
      "text/plain": [
       "{'tipo': 'Perro',\n",
       " 'raza': 'Pastor Alemán',\n",
       " 'talla': 'Grande',\n",
       " 'precio': 20000,\n",
       " 'servicios': ['hotel']}"
      ]
     },
     "execution_count": 10,
     "metadata": {},
     "output_type": "execute_result"
    }
   ],
   "source": [
    "data[\"pets\"].pop(1)"
   ]
  },
  {
   "cell_type": "code",
   "execution_count": 11,
   "metadata": {},
   "outputs": [
    {
     "data": {
      "text/plain": [
       "{'pets': [{'tipo': 'Gato',\n",
       "   'raza': 'Persa',\n",
       "   'talla': 'mediano',\n",
       "   'precio': 100000,\n",
       "   'servicios': ['vacunas', 'baño', 'alimento', 'juguetes']},\n",
       "  {'tipo': 'Perro',\n",
       "   'raza': 'Pastor Collins',\n",
       "   'talla': 'Grande',\n",
       "   'precio': 15000,\n",
       "   'servicios': ['baño']},\n",
       "  {'tipo': 'Chanchito',\n",
       "   'raza': 'Tiny Rose',\n",
       "   'talla': 'pequeño',\n",
       "   'precio': 40000,\n",
       "   'servicios': ['vacunas', 'alimento']}]}"
      ]
     },
     "execution_count": 11,
     "metadata": {},
     "output_type": "execute_result"
    }
   ],
   "source": [
    "data"
   ]
  },
  {
   "cell_type": "code",
   "execution_count": 15,
   "metadata": {},
   "outputs": [
    {
     "ename": "NameError",
     "evalue": "name 'indice_a_buscar' is not defined",
     "output_type": "error",
     "traceback": [
      "\u001b[0;31m---------------------------------------------------------------------------\u001b[0m",
      "\u001b[0;31mNameError\u001b[0m                                 Traceback (most recent call last)",
      "Cell \u001b[0;32mIn[15], line 1\u001b[0m\n\u001b[0;32m----> 1\u001b[0m data[\u001b[39m\"\u001b[39m\u001b[39mpets\u001b[39m\u001b[39m\"\u001b[39m](indice_a_buscar)\n",
      "\u001b[0;31mNameError\u001b[0m: name 'indice_a_buscar' is not defined"
     ]
    }
   ],
   "source": [
    "        data[\"pets\"](indice_a_buscar)\n"
   ]
  },
  {
   "cell_type": "code",
   "execution_count": 17,
   "metadata": {},
   "outputs": [
    {
     "ename": "SyntaxError",
     "evalue": "expected ':' (2197408614.py, line 8)",
     "output_type": "error",
     "traceback": [
      "\u001b[0;36m  Cell \u001b[0;32mIn[17], line 8\u001b[0;36m\u001b[0m\n\u001b[0;31m    if data[\"pets\"] == (indice_a_buscar)\u001b[0m\n\u001b[0m                                        ^\u001b[0m\n\u001b[0;31mSyntaxError\u001b[0m\u001b[0;31m:\u001b[0m expected ':'\n"
     ]
    }
   ],
   "source": [
    "def actualizar_Mascota(): \n",
    "    #para llamar funcion escribir ()\n",
    "    data= leer_Datos() #para leer todos los datos\n",
    "\n",
    "    tipo_mascota()\n",
    "    indice_a_buscar = int(input(\"Ingrese el indice de mascota a cambiar datos: \"))-1\n",
    "    if indice_a_buscar <0 or indice_a_buscar> len(data[\"pets\"]): #si el indice esta en la lista\n",
    "        if data[\"pets\"] == (indice_a_buscar)\n",
    "            tipon = input(\"Nuevo tipo: \") \n",
    "            razan = input(\"Nueva raza: \")\n",
    "            tallan = input(\"Nuevo talla: \")\n",
    "            precion = input(\"Nuevo precio : \")\n",
    "            servicion= input(\"Nuevo servicio: \")\n",
    "\n",
    "            mod['tipo'] = tipon\n",
    "            mod['raza'] = razan\n",
    "            mod['talla'] = tallan\n",
    "            mod['precio'] = precion\n",
    "            mod['servicio'] = servicion\n",
    "\n",
    "            print(\"modificado con éxito.\")\n",
    "            input()\n",
    "            return \n",
    "    print(\"No encontrado.\")\n",
    "    input()\n"
   ]
  }
 ],
 "metadata": {
  "kernelspec": {
   "display_name": "Python 3",
   "language": "python",
   "name": "python3"
  },
  "language_info": {
   "codemirror_mode": {
    "name": "ipython",
    "version": 3
   },
   "file_extension": ".py",
   "mimetype": "text/x-python",
   "name": "python",
   "nbconvert_exporter": "python",
   "pygments_lexer": "ipython3",
   "version": "3.10.12"
  },
  "orig_nbformat": 4
 },
 "nbformat": 4,
 "nbformat_minor": 2
}
